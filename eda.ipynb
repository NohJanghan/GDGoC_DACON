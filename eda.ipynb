{
 "cells": [
  {
   "cell_type": "markdown",
   "metadata": {},
   "source": [
    "# EDA\n",
    "Load only the data about July"
   ]
  },
  {
   "cell_type": "code",
   "execution_count": 1,
   "metadata": {},
   "outputs": [],
   "source": [
    "import pandas as pd\n",
    "from functools import reduce\n"
   ]
  },
  {
   "cell_type": "code",
   "execution_count": 2,
   "metadata": {},
   "outputs": [
    {
     "name": "stdout",
     "output_type": "stream",
     "text": [
      "회원정보 loaded\n",
      "(400000, 78)\n",
      "신용정보 loaded\n",
      "(400000, 42)\n",
      "승인매출정보 loaded\n",
      "(400000, 406)\n",
      "청구정보 loaded\n",
      "(400000, 46)\n",
      "잔액정보 loaded\n",
      "(400000, 82)\n",
      "채널정보 loaded\n",
      "(400000, 105)\n",
      "마케팅정보 loaded\n",
      "(400000, 64)\n",
      "성과정보 loaded\n",
      "(400000, 49)\n",
      "(400000, 858)\n"
     ]
    }
   ],
   "source": [
    "data_categories = {\n",
    "    \"회원정보\": {\"folder\": \"1.회원정보\", \"suffix\": \"회원정보\", \"var_prefix\": \"customer\"},\n",
    "    \"신용정보\": {\"folder\": \"2.신용정보\", \"suffix\": \"신용정보\", \"var_prefix\": \"credit\"},\n",
    "    \"승인매출정보\": {\"folder\": \"3.승인매출정보\", \"suffix\": \"승인매출정보\", \"var_prefix\": \"sales\"},\n",
    "    \"청구정보\": {\"folder\": \"4.청구입금정보\", \"suffix\": \"청구정보\", \"var_prefix\": \"billing\"},\n",
    "    \"잔액정보\": {\"folder\": \"5.잔액정보\", \"suffix\": \"잔액정보\", \"var_prefix\": \"balance\"},\n",
    "    \"채널정보\": {\"folder\": \"6.채널정보\", \"suffix\": \"채널정보\", \"var_prefix\": \"channel\"},\n",
    "    \"마케팅정보\": {\"folder\": \"7.마케팅정보\", \"suffix\": \"마케팅정보\", \"var_prefix\": \"marketing\"},\n",
    "    \"성과정보\": {\"folder\": \"8.성과정보\", \"suffix\": \"성과정보\", \"var_prefix\": \"performance\"}\n",
    "}\n",
    "\n",
    "dfs = []\n",
    "for category, info in data_categories.items():\n",
    "    folder = info[\"folder\"]\n",
    "    suffix = info[\"suffix\"]\n",
    "    var_prefix = info[\"var_prefix\"]\n",
    "\n",
    "    month = '07'\n",
    "    file_path = f'./train/{folder}/2018{month}_train_{suffix}.parquet'\n",
    "\n",
    "    dfs.append(pd.read_parquet(file_path))\n",
    "    print(f'{category} loaded')\n",
    "    print(dfs[-1].shape)\n",
    "\n",
    "\n",
    "df = reduce(lambda left, right: pd.DataFrame.merge(left, right, on=['기준년월', 'ID'], how='left'), dfs)\n",
    "print(df.shape)\n"
   ]
  },
  {
   "cell_type": "code",
   "execution_count": 4,
   "metadata": {},
   "outputs": [],
   "source": [
    "df.head().to_csv('train_data_sample.csv', encoding='utf-8')"
   ]
  }
 ],
 "metadata": {
  "kernelspec": {
   "display_name": "base",
   "language": "python",
   "name": "python3"
  },
  "language_info": {
   "codemirror_mode": {
    "name": "ipython",
    "version": 3
   },
   "file_extension": ".py",
   "mimetype": "text/x-python",
   "name": "python",
   "nbconvert_exporter": "python",
   "pygments_lexer": "ipython3",
   "version": "3.12.7"
  }
 },
 "nbformat": 4,
 "nbformat_minor": 2
}
