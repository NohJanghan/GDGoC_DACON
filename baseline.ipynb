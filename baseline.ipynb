{
 "cells": [
  {
   "cell_type": "markdown",
   "metadata": {},
   "source": [
    "### Import"
   ]
  },
  {
   "cell_type": "code",
   "execution_count": 1,
   "metadata": {},
   "outputs": [],
   "source": [
    "import pandas as pd\n",
    "import numpy as np\n",
    "import gc\n",
    "\n",
    "import xgboost as xgb\n",
    "from sklearn.preprocessing import LabelEncoder"
   ]
  },
  {
   "cell_type": "markdown",
   "metadata": {},
   "source": [
    "### Data Load"
   ]
  },
  {
   "cell_type": "code",
   "execution_count": 2,
   "metadata": {},
   "outputs": [
    {
     "name": "stdout",
     "output_type": "stream",
     "text": [
      "customer_train_07 is loaded from ./train/1.회원정보/201807_train_회원정보.parquet\n",
      "customer_train_08 is loaded from ./train/1.회원정보/201808_train_회원정보.parquet\n",
      "customer_train_09 is loaded from ./train/1.회원정보/201809_train_회원정보.parquet\n",
      "customer_train_10 is loaded from ./train/1.회원정보/201810_train_회원정보.parquet\n",
      "customer_train_11 is loaded from ./train/1.회원정보/201811_train_회원정보.parquet\n",
      "customer_train_12 is loaded from ./train/1.회원정보/201812_train_회원정보.parquet\n",
      "credit_train_07 is loaded from ./train/2.신용정보/201807_train_신용정보.parquet\n",
      "credit_train_08 is loaded from ./train/2.신용정보/201808_train_신용정보.parquet\n",
      "credit_train_09 is loaded from ./train/2.신용정보/201809_train_신용정보.parquet\n",
      "credit_train_10 is loaded from ./train/2.신용정보/201810_train_신용정보.parquet\n",
      "credit_train_11 is loaded from ./train/2.신용정보/201811_train_신용정보.parquet\n",
      "credit_train_12 is loaded from ./train/2.신용정보/201812_train_신용정보.parquet\n",
      "sales_train_07 is loaded from ./train/3.승인매출정보/201807_train_승인매출정보.parquet\n",
      "sales_train_08 is loaded from ./train/3.승인매출정보/201808_train_승인매출정보.parquet\n",
      "sales_train_09 is loaded from ./train/3.승인매출정보/201809_train_승인매출정보.parquet\n",
      "sales_train_10 is loaded from ./train/3.승인매출정보/201810_train_승인매출정보.parquet\n",
      "sales_train_11 is loaded from ./train/3.승인매출정보/201811_train_승인매출정보.parquet\n",
      "sales_train_12 is loaded from ./train/3.승인매출정보/201812_train_승인매출정보.parquet\n",
      "billing_train_07 is loaded from ./train/4.청구입금정보/201807_train_청구정보.parquet\n",
      "billing_train_08 is loaded from ./train/4.청구입금정보/201808_train_청구정보.parquet\n",
      "billing_train_09 is loaded from ./train/4.청구입금정보/201809_train_청구정보.parquet\n",
      "billing_train_10 is loaded from ./train/4.청구입금정보/201810_train_청구정보.parquet\n",
      "billing_train_11 is loaded from ./train/4.청구입금정보/201811_train_청구정보.parquet\n",
      "billing_train_12 is loaded from ./train/4.청구입금정보/201812_train_청구정보.parquet\n",
      "balance_train_07 is loaded from ./train/5.잔액정보/201807_train_잔액정보.parquet\n",
      "balance_train_08 is loaded from ./train/5.잔액정보/201808_train_잔액정보.parquet\n",
      "balance_train_09 is loaded from ./train/5.잔액정보/201809_train_잔액정보.parquet\n",
      "balance_train_10 is loaded from ./train/5.잔액정보/201810_train_잔액정보.parquet\n",
      "balance_train_11 is loaded from ./train/5.잔액정보/201811_train_잔액정보.parquet\n",
      "balance_train_12 is loaded from ./train/5.잔액정보/201812_train_잔액정보.parquet\n",
      "channel_train_07 is loaded from ./train/6.채널정보/201807_train_채널정보.parquet\n",
      "channel_train_08 is loaded from ./train/6.채널정보/201808_train_채널정보.parquet\n",
      "channel_train_09 is loaded from ./train/6.채널정보/201809_train_채널정보.parquet\n",
      "channel_train_10 is loaded from ./train/6.채널정보/201810_train_채널정보.parquet\n",
      "channel_train_11 is loaded from ./train/6.채널정보/201811_train_채널정보.parquet\n",
      "channel_train_12 is loaded from ./train/6.채널정보/201812_train_채널정보.parquet\n",
      "marketing_train_07 is loaded from ./train/7.마케팅정보/201807_train_마케팅정보.parquet\n",
      "marketing_train_08 is loaded from ./train/7.마케팅정보/201808_train_마케팅정보.parquet\n",
      "marketing_train_09 is loaded from ./train/7.마케팅정보/201809_train_마케팅정보.parquet\n",
      "marketing_train_10 is loaded from ./train/7.마케팅정보/201810_train_마케팅정보.parquet\n",
      "marketing_train_11 is loaded from ./train/7.마케팅정보/201811_train_마케팅정보.parquet\n",
      "marketing_train_12 is loaded from ./train/7.마케팅정보/201812_train_마케팅정보.parquet\n",
      "performance_train_07 is loaded from ./train/8.성과정보/201807_train_성과정보.parquet\n",
      "performance_train_08 is loaded from ./train/8.성과정보/201808_train_성과정보.parquet\n",
      "performance_train_09 is loaded from ./train/8.성과정보/201809_train_성과정보.parquet\n",
      "performance_train_10 is loaded from ./train/8.성과정보/201810_train_성과정보.parquet\n",
      "performance_train_11 is loaded from ./train/8.성과정보/201811_train_성과정보.parquet\n",
      "performance_train_12 is loaded from ./train/8.성과정보/201812_train_성과정보.parquet\n",
      "customer_test_07 is loaded from ./test/1.회원정보/201807_test_회원정보.parquet\n",
      "customer_test_08 is loaded from ./test/1.회원정보/201808_test_회원정보.parquet\n",
      "customer_test_09 is loaded from ./test/1.회원정보/201809_test_회원정보.parquet\n",
      "customer_test_10 is loaded from ./test/1.회원정보/201810_test_회원정보.parquet\n",
      "customer_test_11 is loaded from ./test/1.회원정보/201811_test_회원정보.parquet\n",
      "customer_test_12 is loaded from ./test/1.회원정보/201812_test_회원정보.parquet\n",
      "credit_test_07 is loaded from ./test/2.신용정보/201807_test_신용정보.parquet\n",
      "credit_test_08 is loaded from ./test/2.신용정보/201808_test_신용정보.parquet\n",
      "credit_test_09 is loaded from ./test/2.신용정보/201809_test_신용정보.parquet\n",
      "credit_test_10 is loaded from ./test/2.신용정보/201810_test_신용정보.parquet\n",
      "credit_test_11 is loaded from ./test/2.신용정보/201811_test_신용정보.parquet\n",
      "credit_test_12 is loaded from ./test/2.신용정보/201812_test_신용정보.parquet\n",
      "sales_test_07 is loaded from ./test/3.승인매출정보/201807_test_승인매출정보.parquet\n",
      "sales_test_08 is loaded from ./test/3.승인매출정보/201808_test_승인매출정보.parquet\n",
      "sales_test_09 is loaded from ./test/3.승인매출정보/201809_test_승인매출정보.parquet\n",
      "sales_test_10 is loaded from ./test/3.승인매출정보/201810_test_승인매출정보.parquet\n",
      "sales_test_11 is loaded from ./test/3.승인매출정보/201811_test_승인매출정보.parquet\n",
      "sales_test_12 is loaded from ./test/3.승인매출정보/201812_test_승인매출정보.parquet\n",
      "billing_test_07 is loaded from ./test/4.청구입금정보/201807_test_청구정보.parquet\n",
      "billing_test_08 is loaded from ./test/4.청구입금정보/201808_test_청구정보.parquet\n",
      "billing_test_09 is loaded from ./test/4.청구입금정보/201809_test_청구정보.parquet\n",
      "billing_test_10 is loaded from ./test/4.청구입금정보/201810_test_청구정보.parquet\n",
      "billing_test_11 is loaded from ./test/4.청구입금정보/201811_test_청구정보.parquet\n",
      "billing_test_12 is loaded from ./test/4.청구입금정보/201812_test_청구정보.parquet\n",
      "balance_test_07 is loaded from ./test/5.잔액정보/201807_test_잔액정보.parquet\n",
      "balance_test_08 is loaded from ./test/5.잔액정보/201808_test_잔액정보.parquet\n",
      "balance_test_09 is loaded from ./test/5.잔액정보/201809_test_잔액정보.parquet\n",
      "balance_test_10 is loaded from ./test/5.잔액정보/201810_test_잔액정보.parquet\n",
      "balance_test_11 is loaded from ./test/5.잔액정보/201811_test_잔액정보.parquet\n",
      "balance_test_12 is loaded from ./test/5.잔액정보/201812_test_잔액정보.parquet\n",
      "channel_test_07 is loaded from ./test/6.채널정보/201807_test_채널정보.parquet\n",
      "channel_test_08 is loaded from ./test/6.채널정보/201808_test_채널정보.parquet\n",
      "channel_test_09 is loaded from ./test/6.채널정보/201809_test_채널정보.parquet\n",
      "channel_test_10 is loaded from ./test/6.채널정보/201810_test_채널정보.parquet\n",
      "channel_test_11 is loaded from ./test/6.채널정보/201811_test_채널정보.parquet\n",
      "channel_test_12 is loaded from ./test/6.채널정보/201812_test_채널정보.parquet\n",
      "marketing_test_07 is loaded from ./test/7.마케팅정보/201807_test_마케팅정보.parquet\n",
      "marketing_test_08 is loaded from ./test/7.마케팅정보/201808_test_마케팅정보.parquet\n",
      "marketing_test_09 is loaded from ./test/7.마케팅정보/201809_test_마케팅정보.parquet\n",
      "marketing_test_10 is loaded from ./test/7.마케팅정보/201810_test_마케팅정보.parquet\n",
      "marketing_test_11 is loaded from ./test/7.마케팅정보/201811_test_마케팅정보.parquet\n",
      "marketing_test_12 is loaded from ./test/7.마케팅정보/201812_test_마케팅정보.parquet\n",
      "performance_test_07 is loaded from ./test/8.성과정보/201807_test_성과정보.parquet\n",
      "performance_test_08 is loaded from ./test/8.성과정보/201808_test_성과정보.parquet\n",
      "performance_test_09 is loaded from ./test/8.성과정보/201809_test_성과정보.parquet\n",
      "performance_test_10 is loaded from ./test/8.성과정보/201810_test_성과정보.parquet\n",
      "performance_test_11 is loaded from ./test/8.성과정보/201811_test_성과정보.parquet\n",
      "performance_test_12 is loaded from ./test/8.성과정보/201812_test_성과정보.parquet\n"
     ]
    },
    {
     "data": {
      "text/plain": [
       "0"
      ]
     },
     "execution_count": 2,
     "metadata": {},
     "output_type": "execute_result"
    }
   ],
   "source": [
    "## 데이터의 일부만 사용\n",
    "TRAIN_DATA_RATIO = 0.5\n",
    "np.random.seed(42)  # or any other seed value\n",
    "customer_first = pd.read_parquet(f\"./train/1.회원정보/201807_train_회원정보.parquet\")\n",
    "unique_ids = customer_first['ID'].unique()\n",
    "del customer_first\n",
    "sampled_ids = np.random.choice(unique_ids, size=int(len(unique_ids) * TRAIN_DATA_RATIO), replace=False)\n",
    "\n",
    "\n",
    "# 데이터 분할(폴더) 구분\n",
    "data_splits = [\"train\", \"test\"]\n",
    "\n",
    "# 각 데이터 유형별 폴더명, 파일 접미사, 변수 접두어 설정\n",
    "data_categories = {\n",
    "    \"회원정보\": {\"folder\": \"1.회원정보\", \"suffix\": \"회원정보\", \"var_prefix\": \"customer\"},\n",
    "    \"신용정보\": {\"folder\": \"2.신용정보\", \"suffix\": \"신용정보\", \"var_prefix\": \"credit\"},\n",
    "    \"승인매출정보\": {\"folder\": \"3.승인매출정보\", \"suffix\": \"승인매출정보\", \"var_prefix\": \"sales\"},\n",
    "    \"청구정보\": {\"folder\": \"4.청구입금정보\", \"suffix\": \"청구정보\", \"var_prefix\": \"billing\"},\n",
    "    \"잔액정보\": {\"folder\": \"5.잔액정보\", \"suffix\": \"잔액정보\", \"var_prefix\": \"balance\"},\n",
    "    \"채널정보\": {\"folder\": \"6.채널정보\", \"suffix\": \"채널정보\", \"var_prefix\": \"channel\"},\n",
    "    \"마케팅정보\": {\"folder\": \"7.마케팅정보\", \"suffix\": \"마케팅정보\", \"var_prefix\": \"marketing\"},\n",
    "    \"성과정보\": {\"folder\": \"8.성과정보\", \"suffix\": \"성과정보\", \"var_prefix\": \"performance\"}\n",
    "}\n",
    "\n",
    "# 2018년 7월부터 12월까지의 월 리스트\n",
    "months = ['07', '08', '09', '10', '11', '12']\n",
    "\n",
    "for split in data_splits:\n",
    "    for category, info in data_categories.items():\n",
    "        folder = info[\"folder\"]\n",
    "        suffix = info[\"suffix\"]\n",
    "        var_prefix = info[\"var_prefix\"]\n",
    "        \n",
    "        for month in months:\n",
    "            # 파일명 형식: 2018{month}_{split}_{suffix}.parquet\n",
    "            file_path = f\"./{split}/{folder}/2018{month}_{split}_{suffix}.parquet\"\n",
    "            # 변수명 형식: {var_prefix}_{split}_{month}\n",
    "            variable_name = f\"{var_prefix}_{split}_{month}\"\n",
    "            \n",
    "            ## 훈련 데이터의 일부만 사용\n",
    "            if split == \"train\":\n",
    "                df = pd.read_parquet(file_path)\n",
    "                df = df[df['ID'].isin(sampled_ids)]\n",
    "            else:\n",
    "                df = pd.read_parquet(file_path)\n",
    "\n",
    "            globals()[variable_name] = df\n",
    "            print(f\"{variable_name} is loaded from {file_path}\")\n",
    "\n",
    "gc.collect()"
   ]
  },
  {
   "cell_type": "markdown",
   "metadata": {},
   "source": [
    "### Data Preprocessing(1) : Concat & Merge"
   ]
  },
  {
   "cell_type": "code",
   "execution_count": 3,
   "metadata": {},
   "outputs": [],
   "source": [
    "# 데이터 유형별 설정 \n",
    "info_categories = [\"customer\", \"credit\", \"sales\", \"billing\", \"balance\", \"channel\", \"marketing\", \"performance\"]\n",
    "\n",
    "# 월 설정\n",
    "months = ['07', '08', '09', '10', '11', '12']"
   ]
  },
  {
   "cell_type": "code",
   "execution_count": 4,
   "metadata": {},
   "outputs": [
    {
     "name": "stdout",
     "output_type": "stream",
     "text": [
      "customer_train_df is created with shape: (1200000, 78)\n",
      "credit_train_df is created with shape: (1200000, 42)\n",
      "sales_train_df is created with shape: (1200000, 406)\n",
      "billing_train_df is created with shape: (1200000, 46)\n",
      "balance_train_df is created with shape: (1200000, 82)\n",
      "channel_train_df is created with shape: (1200000, 105)\n",
      "marketing_train_df is created with shape: (1200000, 64)\n",
      "performance_train_df is created with shape: (1200000, 49)\n"
     ]
    },
    {
     "data": {
      "text/plain": [
       "0"
      ]
     },
     "execution_count": 4,
     "metadata": {},
     "output_type": "execute_result"
    }
   ],
   "source": [
    "#### Train ####\n",
    "\n",
    "# 각 유형별로 월별 데이터를 합쳐서 새로운 변수에 저장\n",
    "train_dfs = {}\n",
    "\n",
    "for prefix in info_categories:\n",
    "    # globals()에서 동적 변수명으로 데이터프레임들을 가져와 리스트에 저장\n",
    "    df_list = [globals()[f\"{prefix}_train_{month}\"] for month in months]\n",
    "    train_dfs[f\"{prefix}_train_df\"] = pd.concat(df_list, axis=0)\n",
    "    gc.collect()\n",
    "    print(f\"{prefix}_train_df is created with shape: {train_dfs[f'{prefix}_train_df'].shape}\")\n",
    "\n",
    "\n",
    "customer_train_df = train_dfs[\"customer_train_df\"]\n",
    "credit_train_df   = train_dfs[\"credit_train_df\"]\n",
    "sales_train_df    = train_dfs[\"sales_train_df\"]\n",
    "billing_train_df  = train_dfs[\"billing_train_df\"]\n",
    "balance_train_df  = train_dfs[\"balance_train_df\"]\n",
    "channel_train_df  = train_dfs[\"channel_train_df\"]\n",
    "marketing_train_df= train_dfs[\"marketing_train_df\"]\n",
    "performance_train_df = train_dfs[\"performance_train_df\"]\n",
    "\n",
    "gc.collect()"
   ]
  },
  {
   "cell_type": "code",
   "execution_count": 5,
   "metadata": {},
   "outputs": [
    {
     "name": "stdout",
     "output_type": "stream",
     "text": [
      "customer_test_df is created with shape: (600000, 77)\n",
      "credit_test_df is created with shape: (600000, 42)\n",
      "sales_test_df is created with shape: (600000, 406)\n",
      "billing_test_df is created with shape: (600000, 46)\n",
      "balance_test_df is created with shape: (600000, 82)\n",
      "channel_test_df is created with shape: (600000, 105)\n",
      "marketing_test_df is created with shape: (600000, 64)\n",
      "performance_test_df is created with shape: (600000, 49)\n"
     ]
    },
    {
     "data": {
      "text/plain": [
       "0"
      ]
     },
     "execution_count": 5,
     "metadata": {},
     "output_type": "execute_result"
    }
   ],
   "source": [
    "#### Test ####\n",
    "\n",
    "# test 데이터에 대해 train과 동일한 방법 적용\n",
    "test_dfs = {}\n",
    "\n",
    "for prefix in info_categories:\n",
    "    df_list = [globals()[f\"{prefix}_test_{month}\"] for month in months]\n",
    "    test_dfs[f\"{prefix}_test_df\"] = pd.concat(df_list, axis=0)\n",
    "    gc.collect()\n",
    "    print(f\"{prefix}_test_df is created with shape: {test_dfs[f'{prefix}_test_df'].shape}\")\n",
    "\n",
    "\n",
    "customer_test_df = test_dfs[\"customer_test_df\"]\n",
    "credit_test_df   = test_dfs[\"credit_test_df\"]\n",
    "sales_test_df    = test_dfs[\"sales_test_df\"]\n",
    "billing_test_df  = test_dfs[\"billing_test_df\"]\n",
    "balance_test_df  = test_dfs[\"balance_test_df\"]\n",
    "channel_test_df  = test_dfs[\"channel_test_df\"]\n",
    "marketing_test_df= test_dfs[\"marketing_test_df\"]\n",
    "performance_test_df = test_dfs[\"performance_test_df\"]\n",
    "\n",
    "gc.collect()"
   ]
  },
  {
   "cell_type": "code",
   "execution_count": 6,
   "metadata": {},
   "outputs": [
    {
     "name": "stdout",
     "output_type": "stream",
     "text": [
      "Step1 저장 완료: train_step1, shape: (1200000, 118)\n",
      "Step2 저장 완료: train_Step2, shape: (1200000, 522)\n",
      "Step3 저장 완료: train_Step3, shape: (1200000, 566)\n",
      "Step4 저장 완료: train_Step4, shape: (1200000, 646)\n",
      "Step5 저장 완료: train_Step5, shape: (1200000, 749)\n",
      "Step6 저장 완료: train_Step6, shape: (1200000, 811)\n",
      "최종 저장 완료: train_최종, shape: (1200000, 858)\n",
      "(1200000, 858)\n"
     ]
    }
   ],
   "source": [
    "#### Train ####\n",
    "\n",
    "train_df = customer_train_df.merge(credit_train_df, on=['기준년월', 'ID'], how='left')\n",
    "print(\"Step1 저장 완료: train_step1, shape:\", train_df.shape)\n",
    "del customer_train_df, credit_train_df\n",
    "gc.collect()\n",
    "\n",
    "# 이후 merge할 데이터프레임 이름과 단계 정보를 리스트에 저장\n",
    "merge_list = [\n",
    "    (\"sales_train_df\",    \"Step2\"),\n",
    "    (\"billing_train_df\",  \"Step3\"),\n",
    "    (\"balance_train_df\",  \"Step4\"),\n",
    "    (\"channel_train_df\",  \"Step5\"),\n",
    "    (\"marketing_train_df\",\"Step6\"),\n",
    "    (\"performance_train_df\", \"최종\")\n",
    "]\n",
    "\n",
    "# 나머지 단계 merge\n",
    "for df_name, step in merge_list:\n",
    "    # globals()로 동적 변수 접근하여 merge 수행\n",
    "    train_df = train_df.merge(globals()[df_name], on=['기준년월', 'ID'], how='left')\n",
    "    print(f\"{step} 저장 완료: train_{step}, shape:\", train_df.shape)\n",
    "    # 사용한 변수는 메모리 해제를 위해 삭제\n",
    "    del globals()[df_name]\n",
    "    gc.collect()\n",
    "\n",
    "print(train_df.shape)"
   ]
  },
  {
   "cell_type": "code",
   "execution_count": 7,
   "metadata": {},
   "outputs": [
    {
     "name": "stdout",
     "output_type": "stream",
     "text": [
      "Step1 저장 완료: test_step1, shape: (600000, 117)\n",
      "Step2 저장 완료: test_Step2, shape: (600000, 521)\n",
      "Step3 저장 완료: test_Step3, shape: (600000, 565)\n",
      "Step4 저장 완료: test_Step4, shape: (600000, 645)\n",
      "Step5 저장 완료: test_Step5, shape: (600000, 748)\n",
      "Step6 저장 완료: test_Step6, shape: (600000, 810)\n",
      "최종 저장 완료: test_최종, shape: (600000, 857)\n",
      "(600000, 857)\n"
     ]
    }
   ],
   "source": [
    "#### Test ####\n",
    "\n",
    "test_df = customer_test_df.merge(credit_test_df, on=['기준년월', 'ID'], how='left')\n",
    "print(\"Step1 저장 완료: test_step1, shape:\", test_df.shape)\n",
    "del customer_test_df, credit_test_df\n",
    "gc.collect()\n",
    "\n",
    "# 이후 merge할 데이터프레임 이름과 단계 정보를 리스트에 저장\n",
    "merge_list = [\n",
    "    (\"sales_test_df\",    \"Step2\"),\n",
    "    (\"billing_test_df\",  \"Step3\"),\n",
    "    (\"balance_test_df\",  \"Step4\"),\n",
    "    (\"channel_test_df\",  \"Step5\"),\n",
    "    (\"marketing_test_df\",\"Step6\"),\n",
    "    (\"performance_test_df\", \"최종\")\n",
    "]\n",
    "\n",
    "# 나머지 단계 merge\n",
    "for df_name, step in merge_list:\n",
    "    # globals()로 동적 변수 접근하여 merge 수행\n",
    "    test_df = test_df.merge(globals()[df_name], on=['기준년월', 'ID'], how='left')\n",
    "    print(f\"{step} 저장 완료: test_{step}, shape:\", test_df.shape)\n",
    "    # 사용한 변수는 메모리 해제를 위해 삭제\n",
    "    del globals()[df_name]\n",
    "    gc.collect()\n",
    "\n",
    "print(test_df.shape)"
   ]
  },
  {
   "cell_type": "markdown",
   "metadata": {},
   "source": [
    "### Data Preprocessing(2) : Encoding"
   ]
  },
  {
   "cell_type": "code",
   "execution_count": 8,
   "metadata": {},
   "outputs": [],
   "source": [
    "feature_cols = [col for col in train_df.columns if col not in [\"ID\", \"Segment\"]]\n",
    "\n",
    "X = train_df[feature_cols].copy()\n",
    "y = train_df[\"Segment\"].copy()\n",
    "\n",
    "# 타깃 라벨 인코딩\n",
    "le_target = LabelEncoder()\n",
    "y_encoded = le_target.fit_transform(y)"
   ]
  },
  {
   "cell_type": "code",
   "execution_count": 9,
   "metadata": {},
   "outputs": [],
   "source": [
    "categorical_features = X.select_dtypes(include=['object']).columns.tolist()\n",
    "\n",
    "X_test = test_df.copy()\n",
    "\n",
    "encoders = {}  # 각 컬럼별 encoder 저장\n",
    "\n",
    "for col in categorical_features:\n",
    "    le_train = LabelEncoder()\n",
    "    X[col] = le_train.fit_transform(X[col])\n",
    "    encoders[col] = le_train\n",
    "    unseen_labels_val = set(X_test[col]) - set(le_train.classes_)\n",
    "    if unseen_labels_val:\n",
    "        le_train.classes_ = np.append(le_train.classes_, list(unseen_labels_val))\n",
    "    X_test[col] = le_train.transform(X_test[col])"
   ]
  },
  {
   "cell_type": "code",
   "execution_count": 10,
   "metadata": {},
   "outputs": [
    {
     "data": {
      "text/plain": [
       "0"
      ]
     },
     "execution_count": 10,
     "metadata": {},
     "output_type": "execute_result"
    }
   ],
   "source": [
    "gc.collect()"
   ]
  },
  {
   "cell_type": "markdown",
   "metadata": {},
   "source": [
    "### Train"
   ]
  },
  {
   "cell_type": "code",
   "execution_count": 11,
   "metadata": {},
   "outputs": [
    {
     "name": "stdout",
     "output_type": "stream",
     "text": [
      "GPU 사용 가능: gpu_hist 모드 적용\n"
     ]
    },
    {
     "name": "stderr",
     "output_type": "stream",
     "text": [
      "c:\\Users\\Janghan\\anaconda3\\Lib\\site-packages\\xgboost\\core.py:158: UserWarning: [22:51:26] WARNING: C:\\b\\abs_90_bwj_86a\\croot\\xgboost-split_1724073762025\\work\\src\\common\\error_msg.cc:45: `gpu_id` is deprecated since2.0.0, use `device` instead. E.g. device=cpu/cuda/cuda:0\n",
      "  warnings.warn(smsg, UserWarning)\n",
      "c:\\Users\\Janghan\\anaconda3\\Lib\\site-packages\\xgboost\\core.py:158: UserWarning: [22:51:26] WARNING: C:\\b\\abs_90_bwj_86a\\croot\\xgboost-split_1724073762025\\work\\src\\context.cc:196: XGBoost is not compiled with CUDA support.\n",
      "  warnings.warn(smsg, UserWarning)\n"
     ]
    },
    {
     "name": "stdout",
     "output_type": "stream",
     "text": [
      "GPU 사용 불가: CPU 모드 적용\n"
     ]
    },
    {
     "ename": "XGBoostError",
     "evalue": "[22:52:47] C:\\b\\abs_90_bwj_86a\\croot\\xgboost-split_1724073762025\\work\\src\\common\\io.h:320: bad_malloc: Failed to allocate 8184406440 bytes.",
     "output_type": "error",
     "traceback": [
      "\u001b[1;31m---------------------------------------------------------------------------\u001b[0m",
      "\u001b[1;31mXGBoostError\u001b[0m                              Traceback (most recent call last)",
      "Cell \u001b[1;32mIn[11], line 8\u001b[0m\n\u001b[0;32m      7\u001b[0m     \u001b[38;5;28mprint\u001b[39m(\u001b[38;5;124m\"\u001b[39m\u001b[38;5;124mGPU 사용 가능: gpu_hist 모드 적용\u001b[39m\u001b[38;5;124m\"\u001b[39m)\n\u001b[1;32m----> 8\u001b[0m     model\u001b[38;5;241m.\u001b[39mfit(X, y_encoded)\n\u001b[0;32m     10\u001b[0m \u001b[38;5;28;01mexcept\u001b[39;00m \u001b[38;5;167;01mException\u001b[39;00m:\n",
      "File \u001b[1;32mc:\\Users\\Janghan\\anaconda3\\Lib\\site-packages\\xgboost\\core.py:726\u001b[0m, in \u001b[0;36mrequire_keyword_args.<locals>.throw_if.<locals>.inner_f\u001b[1;34m(*args, **kwargs)\u001b[0m\n\u001b[0;32m    725\u001b[0m     kwargs[k] \u001b[38;5;241m=\u001b[39m arg\n\u001b[1;32m--> 726\u001b[0m \u001b[38;5;28;01mreturn\u001b[39;00m func(\u001b[38;5;241m*\u001b[39m\u001b[38;5;241m*\u001b[39mkwargs)\n",
      "File \u001b[1;32mc:\\Users\\Janghan\\anaconda3\\Lib\\site-packages\\xgboost\\sklearn.py:1531\u001b[0m, in \u001b[0;36mXGBClassifier.fit\u001b[1;34m(self, X, y, sample_weight, base_margin, eval_set, verbose, xgb_model, sample_weight_eval_set, base_margin_eval_set, feature_weights)\u001b[0m\n\u001b[0;32m   1512\u001b[0m train_dmatrix, evals \u001b[38;5;241m=\u001b[39m _wrap_evaluation_matrices(\n\u001b[0;32m   1513\u001b[0m     missing\u001b[38;5;241m=\u001b[39m\u001b[38;5;28mself\u001b[39m\u001b[38;5;241m.\u001b[39mmissing,\n\u001b[0;32m   1514\u001b[0m     X\u001b[38;5;241m=\u001b[39mX,\n\u001b[1;32m   (...)\u001b[0m\n\u001b[0;32m   1528\u001b[0m     feature_types\u001b[38;5;241m=\u001b[39m\u001b[38;5;28mself\u001b[39m\u001b[38;5;241m.\u001b[39mfeature_types,\n\u001b[0;32m   1529\u001b[0m )\n\u001b[1;32m-> 1531\u001b[0m \u001b[38;5;28mself\u001b[39m\u001b[38;5;241m.\u001b[39m_Booster \u001b[38;5;241m=\u001b[39m train(\n\u001b[0;32m   1532\u001b[0m     params,\n\u001b[0;32m   1533\u001b[0m     train_dmatrix,\n\u001b[0;32m   1534\u001b[0m     \u001b[38;5;28mself\u001b[39m\u001b[38;5;241m.\u001b[39mget_num_boosting_rounds(),\n\u001b[0;32m   1535\u001b[0m     evals\u001b[38;5;241m=\u001b[39mevals,\n\u001b[0;32m   1536\u001b[0m     early_stopping_rounds\u001b[38;5;241m=\u001b[39m\u001b[38;5;28mself\u001b[39m\u001b[38;5;241m.\u001b[39mearly_stopping_rounds,\n\u001b[0;32m   1537\u001b[0m     evals_result\u001b[38;5;241m=\u001b[39mevals_result,\n\u001b[0;32m   1538\u001b[0m     obj\u001b[38;5;241m=\u001b[39mobj,\n\u001b[0;32m   1539\u001b[0m     custom_metric\u001b[38;5;241m=\u001b[39mmetric,\n\u001b[0;32m   1540\u001b[0m     verbose_eval\u001b[38;5;241m=\u001b[39mverbose,\n\u001b[0;32m   1541\u001b[0m     xgb_model\u001b[38;5;241m=\u001b[39mmodel,\n\u001b[0;32m   1542\u001b[0m     callbacks\u001b[38;5;241m=\u001b[39m\u001b[38;5;28mself\u001b[39m\u001b[38;5;241m.\u001b[39mcallbacks,\n\u001b[0;32m   1543\u001b[0m )\n\u001b[0;32m   1545\u001b[0m \u001b[38;5;28;01mif\u001b[39;00m \u001b[38;5;129;01mnot\u001b[39;00m \u001b[38;5;28mcallable\u001b[39m(\u001b[38;5;28mself\u001b[39m\u001b[38;5;241m.\u001b[39mobjective):\n",
      "File \u001b[1;32mc:\\Users\\Janghan\\anaconda3\\Lib\\site-packages\\xgboost\\core.py:726\u001b[0m, in \u001b[0;36mrequire_keyword_args.<locals>.throw_if.<locals>.inner_f\u001b[1;34m(*args, **kwargs)\u001b[0m\n\u001b[0;32m    725\u001b[0m     kwargs[k] \u001b[38;5;241m=\u001b[39m arg\n\u001b[1;32m--> 726\u001b[0m \u001b[38;5;28;01mreturn\u001b[39;00m func(\u001b[38;5;241m*\u001b[39m\u001b[38;5;241m*\u001b[39mkwargs)\n",
      "File \u001b[1;32mc:\\Users\\Janghan\\anaconda3\\Lib\\site-packages\\xgboost\\training.py:181\u001b[0m, in \u001b[0;36mtrain\u001b[1;34m(params, dtrain, num_boost_round, evals, obj, feval, maximize, early_stopping_rounds, evals_result, verbose_eval, xgb_model, callbacks, custom_metric)\u001b[0m\n\u001b[0;32m    180\u001b[0m     \u001b[38;5;28;01mbreak\u001b[39;00m\n\u001b[1;32m--> 181\u001b[0m bst\u001b[38;5;241m.\u001b[39mupdate(dtrain, iteration\u001b[38;5;241m=\u001b[39mi, fobj\u001b[38;5;241m=\u001b[39mobj)\n\u001b[0;32m    182\u001b[0m \u001b[38;5;28;01mif\u001b[39;00m cb_container\u001b[38;5;241m.\u001b[39mafter_iteration(bst, i, dtrain, evals):\n",
      "File \u001b[1;32mc:\\Users\\Janghan\\anaconda3\\Lib\\site-packages\\xgboost\\core.py:2100\u001b[0m, in \u001b[0;36mBooster.update\u001b[1;34m(self, dtrain, iteration, fobj)\u001b[0m\n\u001b[0;32m   2099\u001b[0m \u001b[38;5;28;01mif\u001b[39;00m fobj \u001b[38;5;129;01mis\u001b[39;00m \u001b[38;5;28;01mNone\u001b[39;00m:\n\u001b[1;32m-> 2100\u001b[0m     _check_call(\n\u001b[0;32m   2101\u001b[0m         _LIB\u001b[38;5;241m.\u001b[39mXGBoosterUpdateOneIter(\n\u001b[0;32m   2102\u001b[0m             \u001b[38;5;28mself\u001b[39m\u001b[38;5;241m.\u001b[39mhandle, ctypes\u001b[38;5;241m.\u001b[39mc_int(iteration), dtrain\u001b[38;5;241m.\u001b[39mhandle\n\u001b[0;32m   2103\u001b[0m         )\n\u001b[0;32m   2104\u001b[0m     )\n\u001b[0;32m   2105\u001b[0m \u001b[38;5;28;01melse\u001b[39;00m:\n",
      "File \u001b[1;32mc:\\Users\\Janghan\\anaconda3\\Lib\\site-packages\\xgboost\\core.py:284\u001b[0m, in \u001b[0;36m_check_call\u001b[1;34m(ret)\u001b[0m\n\u001b[0;32m    283\u001b[0m \u001b[38;5;28;01mif\u001b[39;00m ret \u001b[38;5;241m!=\u001b[39m \u001b[38;5;241m0\u001b[39m:\n\u001b[1;32m--> 284\u001b[0m     \u001b[38;5;28;01mraise\u001b[39;00m XGBoostError(py_str(_LIB\u001b[38;5;241m.\u001b[39mXGBGetLastError()))\n",
      "\u001b[1;31mXGBoostError\u001b[0m: [22:51:26] C:\\b\\abs_90_bwj_86a\\croot\\xgboost-split_1724073762025\\work\\src\\common\\common.h:174: XGBoost version not compiled with GPU support.",
      "\nDuring handling of the above exception, another exception occurred:\n",
      "\u001b[1;31mXGBoostError\u001b[0m                              Traceback (most recent call last)",
      "Cell \u001b[1;32mIn[11], line 15\u001b[0m\n\u001b[0;32m     11\u001b[0m model \u001b[38;5;241m=\u001b[39m xgb\u001b[38;5;241m.\u001b[39mXGBClassifier(\n\u001b[0;32m     12\u001b[0m     random_state\u001b[38;5;241m=\u001b[39m\u001b[38;5;241m42\u001b[39m\n\u001b[0;32m     13\u001b[0m )\n\u001b[0;32m     14\u001b[0m \u001b[38;5;28mprint\u001b[39m(\u001b[38;5;124m\"\u001b[39m\u001b[38;5;124mGPU 사용 불가: CPU 모드 적용\u001b[39m\u001b[38;5;124m\"\u001b[39m)\n\u001b[1;32m---> 15\u001b[0m model\u001b[38;5;241m.\u001b[39mfit(X, y_encoded)\n",
      "File \u001b[1;32mc:\\Users\\Janghan\\anaconda3\\Lib\\site-packages\\xgboost\\core.py:726\u001b[0m, in \u001b[0;36mrequire_keyword_args.<locals>.throw_if.<locals>.inner_f\u001b[1;34m(*args, **kwargs)\u001b[0m\n\u001b[0;32m    724\u001b[0m \u001b[38;5;28;01mfor\u001b[39;00m k, arg \u001b[38;5;129;01min\u001b[39;00m \u001b[38;5;28mzip\u001b[39m(sig\u001b[38;5;241m.\u001b[39mparameters, args):\n\u001b[0;32m    725\u001b[0m     kwargs[k] \u001b[38;5;241m=\u001b[39m arg\n\u001b[1;32m--> 726\u001b[0m \u001b[38;5;28;01mreturn\u001b[39;00m func(\u001b[38;5;241m*\u001b[39m\u001b[38;5;241m*\u001b[39mkwargs)\n",
      "File \u001b[1;32mc:\\Users\\Janghan\\anaconda3\\Lib\\site-packages\\xgboost\\sklearn.py:1512\u001b[0m, in \u001b[0;36mXGBClassifier.fit\u001b[1;34m(self, X, y, sample_weight, base_margin, eval_set, verbose, xgb_model, sample_weight_eval_set, base_margin_eval_set, feature_weights)\u001b[0m\n\u001b[0;32m   1509\u001b[0m     params[\u001b[38;5;124m\"\u001b[39m\u001b[38;5;124mnum_class\u001b[39m\u001b[38;5;124m\"\u001b[39m] \u001b[38;5;241m=\u001b[39m \u001b[38;5;28mself\u001b[39m\u001b[38;5;241m.\u001b[39mn_classes_\n\u001b[0;32m   1511\u001b[0m model, metric, params \u001b[38;5;241m=\u001b[39m \u001b[38;5;28mself\u001b[39m\u001b[38;5;241m.\u001b[39m_configure_fit(xgb_model, params)\n\u001b[1;32m-> 1512\u001b[0m train_dmatrix, evals \u001b[38;5;241m=\u001b[39m _wrap_evaluation_matrices(\n\u001b[0;32m   1513\u001b[0m     missing\u001b[38;5;241m=\u001b[39m\u001b[38;5;28mself\u001b[39m\u001b[38;5;241m.\u001b[39mmissing,\n\u001b[0;32m   1514\u001b[0m     X\u001b[38;5;241m=\u001b[39mX,\n\u001b[0;32m   1515\u001b[0m     y\u001b[38;5;241m=\u001b[39my,\n\u001b[0;32m   1516\u001b[0m     group\u001b[38;5;241m=\u001b[39m\u001b[38;5;28;01mNone\u001b[39;00m,\n\u001b[0;32m   1517\u001b[0m     qid\u001b[38;5;241m=\u001b[39m\u001b[38;5;28;01mNone\u001b[39;00m,\n\u001b[0;32m   1518\u001b[0m     sample_weight\u001b[38;5;241m=\u001b[39msample_weight,\n\u001b[0;32m   1519\u001b[0m     base_margin\u001b[38;5;241m=\u001b[39mbase_margin,\n\u001b[0;32m   1520\u001b[0m     feature_weights\u001b[38;5;241m=\u001b[39mfeature_weights,\n\u001b[0;32m   1521\u001b[0m     eval_set\u001b[38;5;241m=\u001b[39meval_set,\n\u001b[0;32m   1522\u001b[0m     sample_weight_eval_set\u001b[38;5;241m=\u001b[39msample_weight_eval_set,\n\u001b[0;32m   1523\u001b[0m     base_margin_eval_set\u001b[38;5;241m=\u001b[39mbase_margin_eval_set,\n\u001b[0;32m   1524\u001b[0m     eval_group\u001b[38;5;241m=\u001b[39m\u001b[38;5;28;01mNone\u001b[39;00m,\n\u001b[0;32m   1525\u001b[0m     eval_qid\u001b[38;5;241m=\u001b[39m\u001b[38;5;28;01mNone\u001b[39;00m,\n\u001b[0;32m   1526\u001b[0m     create_dmatrix\u001b[38;5;241m=\u001b[39m\u001b[38;5;28mself\u001b[39m\u001b[38;5;241m.\u001b[39m_create_dmatrix,\n\u001b[0;32m   1527\u001b[0m     enable_categorical\u001b[38;5;241m=\u001b[39m\u001b[38;5;28mself\u001b[39m\u001b[38;5;241m.\u001b[39menable_categorical,\n\u001b[0;32m   1528\u001b[0m     feature_types\u001b[38;5;241m=\u001b[39m\u001b[38;5;28mself\u001b[39m\u001b[38;5;241m.\u001b[39mfeature_types,\n\u001b[0;32m   1529\u001b[0m )\n\u001b[0;32m   1531\u001b[0m \u001b[38;5;28mself\u001b[39m\u001b[38;5;241m.\u001b[39m_Booster \u001b[38;5;241m=\u001b[39m train(\n\u001b[0;32m   1532\u001b[0m     params,\n\u001b[0;32m   1533\u001b[0m     train_dmatrix,\n\u001b[1;32m   (...)\u001b[0m\n\u001b[0;32m   1542\u001b[0m     callbacks\u001b[38;5;241m=\u001b[39m\u001b[38;5;28mself\u001b[39m\u001b[38;5;241m.\u001b[39mcallbacks,\n\u001b[0;32m   1543\u001b[0m )\n\u001b[0;32m   1545\u001b[0m \u001b[38;5;28;01mif\u001b[39;00m \u001b[38;5;129;01mnot\u001b[39;00m \u001b[38;5;28mcallable\u001b[39m(\u001b[38;5;28mself\u001b[39m\u001b[38;5;241m.\u001b[39mobjective):\n",
      "File \u001b[1;32mc:\\Users\\Janghan\\anaconda3\\Lib\\site-packages\\xgboost\\sklearn.py:596\u001b[0m, in \u001b[0;36m_wrap_evaluation_matrices\u001b[1;34m(missing, X, y, group, qid, sample_weight, base_margin, feature_weights, eval_set, sample_weight_eval_set, base_margin_eval_set, eval_group, eval_qid, create_dmatrix, enable_categorical, feature_types)\u001b[0m\n\u001b[0;32m    576\u001b[0m \u001b[38;5;28;01mdef\u001b[39;00m \u001b[38;5;21m_wrap_evaluation_matrices\u001b[39m(\n\u001b[0;32m    577\u001b[0m     missing: \u001b[38;5;28mfloat\u001b[39m,\n\u001b[0;32m    578\u001b[0m     X: Any,\n\u001b[1;32m   (...)\u001b[0m\n\u001b[0;32m    592\u001b[0m     feature_types: Optional[FeatureTypes],\n\u001b[0;32m    593\u001b[0m ) \u001b[38;5;241m-\u001b[39m\u001b[38;5;241m>\u001b[39m Tuple[Any, List[Tuple[Any, \u001b[38;5;28mstr\u001b[39m]]]:\n\u001b[0;32m    594\u001b[0m \u001b[38;5;250m    \u001b[39m\u001b[38;5;124;03m\"\"\"Convert array_like evaluation matrices into DMatrix.  Perform validation on the\u001b[39;00m\n\u001b[0;32m    595\u001b[0m \u001b[38;5;124;03m    way.\"\"\"\u001b[39;00m\n\u001b[1;32m--> 596\u001b[0m     train_dmatrix \u001b[38;5;241m=\u001b[39m create_dmatrix(\n\u001b[0;32m    597\u001b[0m         data\u001b[38;5;241m=\u001b[39mX,\n\u001b[0;32m    598\u001b[0m         label\u001b[38;5;241m=\u001b[39my,\n\u001b[0;32m    599\u001b[0m         group\u001b[38;5;241m=\u001b[39mgroup,\n\u001b[0;32m    600\u001b[0m         qid\u001b[38;5;241m=\u001b[39mqid,\n\u001b[0;32m    601\u001b[0m         weight\u001b[38;5;241m=\u001b[39msample_weight,\n\u001b[0;32m    602\u001b[0m         base_margin\u001b[38;5;241m=\u001b[39mbase_margin,\n\u001b[0;32m    603\u001b[0m         feature_weights\u001b[38;5;241m=\u001b[39mfeature_weights,\n\u001b[0;32m    604\u001b[0m         missing\u001b[38;5;241m=\u001b[39mmissing,\n\u001b[0;32m    605\u001b[0m         enable_categorical\u001b[38;5;241m=\u001b[39menable_categorical,\n\u001b[0;32m    606\u001b[0m         feature_types\u001b[38;5;241m=\u001b[39mfeature_types,\n\u001b[0;32m    607\u001b[0m         ref\u001b[38;5;241m=\u001b[39m\u001b[38;5;28;01mNone\u001b[39;00m,\n\u001b[0;32m    608\u001b[0m     )\n\u001b[0;32m    610\u001b[0m     n_validation \u001b[38;5;241m=\u001b[39m \u001b[38;5;241m0\u001b[39m \u001b[38;5;28;01mif\u001b[39;00m eval_set \u001b[38;5;129;01mis\u001b[39;00m \u001b[38;5;28;01mNone\u001b[39;00m \u001b[38;5;28;01melse\u001b[39;00m \u001b[38;5;28mlen\u001b[39m(eval_set)\n\u001b[0;32m    612\u001b[0m     \u001b[38;5;28;01mdef\u001b[39;00m \u001b[38;5;21mvalidate_or_none\u001b[39m(meta: Optional[Sequence], name: \u001b[38;5;28mstr\u001b[39m) \u001b[38;5;241m-\u001b[39m\u001b[38;5;241m>\u001b[39m Sequence:\n",
      "File \u001b[1;32mc:\\Users\\Janghan\\anaconda3\\Lib\\site-packages\\xgboost\\sklearn.py:1003\u001b[0m, in \u001b[0;36mXGBModel._create_dmatrix\u001b[1;34m(self, ref, **kwargs)\u001b[0m\n\u001b[0;32m   1001\u001b[0m \u001b[38;5;28;01mif\u001b[39;00m _can_use_qdm(\u001b[38;5;28mself\u001b[39m\u001b[38;5;241m.\u001b[39mtree_method) \u001b[38;5;129;01mand\u001b[39;00m \u001b[38;5;28mself\u001b[39m\u001b[38;5;241m.\u001b[39mbooster \u001b[38;5;241m!=\u001b[39m \u001b[38;5;124m\"\u001b[39m\u001b[38;5;124mgblinear\u001b[39m\u001b[38;5;124m\"\u001b[39m:\n\u001b[0;32m   1002\u001b[0m     \u001b[38;5;28;01mtry\u001b[39;00m:\n\u001b[1;32m-> 1003\u001b[0m         \u001b[38;5;28;01mreturn\u001b[39;00m QuantileDMatrix(\n\u001b[0;32m   1004\u001b[0m             \u001b[38;5;241m*\u001b[39m\u001b[38;5;241m*\u001b[39mkwargs, ref\u001b[38;5;241m=\u001b[39mref, nthread\u001b[38;5;241m=\u001b[39m\u001b[38;5;28mself\u001b[39m\u001b[38;5;241m.\u001b[39mn_jobs, max_bin\u001b[38;5;241m=\u001b[39m\u001b[38;5;28mself\u001b[39m\u001b[38;5;241m.\u001b[39mmax_bin\n\u001b[0;32m   1005\u001b[0m         )\n\u001b[0;32m   1006\u001b[0m     \u001b[38;5;28;01mexcept\u001b[39;00m \u001b[38;5;167;01mTypeError\u001b[39;00m:  \u001b[38;5;66;03m# `QuantileDMatrix` supports lesser types than DMatrix\u001b[39;00m\n\u001b[0;32m   1007\u001b[0m         \u001b[38;5;28;01mpass\u001b[39;00m\n",
      "File \u001b[1;32mc:\\Users\\Janghan\\anaconda3\\Lib\\site-packages\\xgboost\\core.py:726\u001b[0m, in \u001b[0;36mrequire_keyword_args.<locals>.throw_if.<locals>.inner_f\u001b[1;34m(*args, **kwargs)\u001b[0m\n\u001b[0;32m    724\u001b[0m \u001b[38;5;28;01mfor\u001b[39;00m k, arg \u001b[38;5;129;01min\u001b[39;00m \u001b[38;5;28mzip\u001b[39m(sig\u001b[38;5;241m.\u001b[39mparameters, args):\n\u001b[0;32m    725\u001b[0m     kwargs[k] \u001b[38;5;241m=\u001b[39m arg\n\u001b[1;32m--> 726\u001b[0m \u001b[38;5;28;01mreturn\u001b[39;00m func(\u001b[38;5;241m*\u001b[39m\u001b[38;5;241m*\u001b[39mkwargs)\n",
      "File \u001b[1;32mc:\\Users\\Janghan\\anaconda3\\Lib\\site-packages\\xgboost\\core.py:1573\u001b[0m, in \u001b[0;36mQuantileDMatrix.__init__\u001b[1;34m(self, data, label, weight, base_margin, missing, silent, feature_names, feature_types, nthread, max_bin, ref, group, qid, label_lower_bound, label_upper_bound, feature_weights, enable_categorical, data_split_mode)\u001b[0m\n\u001b[0;32m   1553\u001b[0m     \u001b[38;5;28;01mif\u001b[39;00m \u001b[38;5;28many\u001b[39m(\n\u001b[0;32m   1554\u001b[0m         info \u001b[38;5;129;01mis\u001b[39;00m \u001b[38;5;129;01mnot\u001b[39;00m \u001b[38;5;28;01mNone\u001b[39;00m\n\u001b[0;32m   1555\u001b[0m         \u001b[38;5;28;01mfor\u001b[39;00m info \u001b[38;5;129;01min\u001b[39;00m (\n\u001b[1;32m   (...)\u001b[0m\n\u001b[0;32m   1566\u001b[0m         )\n\u001b[0;32m   1567\u001b[0m     ):\n\u001b[0;32m   1568\u001b[0m         \u001b[38;5;28;01mraise\u001b[39;00m \u001b[38;5;167;01mValueError\u001b[39;00m(\n\u001b[0;32m   1569\u001b[0m             \u001b[38;5;124m\"\u001b[39m\u001b[38;5;124mIf data iterator is used as input, data like label should be \u001b[39m\u001b[38;5;124m\"\u001b[39m\n\u001b[0;32m   1570\u001b[0m             \u001b[38;5;124m\"\u001b[39m\u001b[38;5;124mspecified as batch argument.\u001b[39m\u001b[38;5;124m\"\u001b[39m\n\u001b[0;32m   1571\u001b[0m         )\n\u001b[1;32m-> 1573\u001b[0m \u001b[38;5;28mself\u001b[39m\u001b[38;5;241m.\u001b[39m_init(\n\u001b[0;32m   1574\u001b[0m     data,\n\u001b[0;32m   1575\u001b[0m     ref\u001b[38;5;241m=\u001b[39mref,\n\u001b[0;32m   1576\u001b[0m     label\u001b[38;5;241m=\u001b[39mlabel,\n\u001b[0;32m   1577\u001b[0m     weight\u001b[38;5;241m=\u001b[39mweight,\n\u001b[0;32m   1578\u001b[0m     base_margin\u001b[38;5;241m=\u001b[39mbase_margin,\n\u001b[0;32m   1579\u001b[0m     group\u001b[38;5;241m=\u001b[39mgroup,\n\u001b[0;32m   1580\u001b[0m     qid\u001b[38;5;241m=\u001b[39mqid,\n\u001b[0;32m   1581\u001b[0m     label_lower_bound\u001b[38;5;241m=\u001b[39mlabel_lower_bound,\n\u001b[0;32m   1582\u001b[0m     label_upper_bound\u001b[38;5;241m=\u001b[39mlabel_upper_bound,\n\u001b[0;32m   1583\u001b[0m     feature_weights\u001b[38;5;241m=\u001b[39mfeature_weights,\n\u001b[0;32m   1584\u001b[0m     feature_names\u001b[38;5;241m=\u001b[39mfeature_names,\n\u001b[0;32m   1585\u001b[0m     feature_types\u001b[38;5;241m=\u001b[39mfeature_types,\n\u001b[0;32m   1586\u001b[0m     enable_categorical\u001b[38;5;241m=\u001b[39menable_categorical,\n\u001b[0;32m   1587\u001b[0m )\n",
      "File \u001b[1;32mc:\\Users\\Janghan\\anaconda3\\Lib\\site-packages\\xgboost\\core.py:1634\u001b[0m, in \u001b[0;36mQuantileDMatrix._init\u001b[1;34m(self, data, ref, enable_categorical, **meta)\u001b[0m\n\u001b[0;32m   1632\u001b[0m it\u001b[38;5;241m.\u001b[39mreraise()\n\u001b[0;32m   1633\u001b[0m \u001b[38;5;66;03m# delay check_call to throw intermediate exception first\u001b[39;00m\n\u001b[1;32m-> 1634\u001b[0m _check_call(ret)\n\u001b[0;32m   1635\u001b[0m \u001b[38;5;28mself\u001b[39m\u001b[38;5;241m.\u001b[39mhandle \u001b[38;5;241m=\u001b[39m handle\n",
      "File \u001b[1;32mc:\\Users\\Janghan\\anaconda3\\Lib\\site-packages\\xgboost\\core.py:284\u001b[0m, in \u001b[0;36m_check_call\u001b[1;34m(ret)\u001b[0m\n\u001b[0;32m    273\u001b[0m \u001b[38;5;250m\u001b[39m\u001b[38;5;124;03m\"\"\"Check the return value of C API call\u001b[39;00m\n\u001b[0;32m    274\u001b[0m \n\u001b[0;32m    275\u001b[0m \u001b[38;5;124;03mThis function will raise exception when error occurs.\u001b[39;00m\n\u001b[1;32m   (...)\u001b[0m\n\u001b[0;32m    281\u001b[0m \u001b[38;5;124;03m    return value from API calls\u001b[39;00m\n\u001b[0;32m    282\u001b[0m \u001b[38;5;124;03m\"\"\"\u001b[39;00m\n\u001b[0;32m    283\u001b[0m \u001b[38;5;28;01mif\u001b[39;00m ret \u001b[38;5;241m!=\u001b[39m \u001b[38;5;241m0\u001b[39m:\n\u001b[1;32m--> 284\u001b[0m     \u001b[38;5;28;01mraise\u001b[39;00m XGBoostError(py_str(_LIB\u001b[38;5;241m.\u001b[39mXGBGetLastError()))\n",
      "\u001b[1;31mXGBoostError\u001b[0m: [22:52:47] C:\\b\\abs_90_bwj_86a\\croot\\xgboost-split_1724073762025\\work\\src\\common\\io.h:320: bad_malloc: Failed to allocate 8184406440 bytes."
     ]
    }
   ],
   "source": [
    "try:\n",
    "    model = xgb.XGBClassifier(\n",
    "        tree_method='gpu_hist',  # GPU 모드 설정\n",
    "        gpu_id=0,\n",
    "        random_state=42\n",
    "    )\n",
    "    print(\"GPU 사용 가능: gpu_hist 모드 적용\")\n",
    "    model.fit(X, y_encoded)\n",
    "    \n",
    "except Exception:\n",
    "    model = xgb.XGBClassifier(\n",
    "        random_state=42\n",
    "    )\n",
    "    print(\"GPU 사용 불가: CPU 모드 적용\")\n",
    "    model.fit(X, y_encoded)"
   ]
  },
  {
   "cell_type": "markdown",
   "metadata": {},
   "source": [
    "### Predict"
   ]
  },
  {
   "cell_type": "code",
   "execution_count": 12,
   "metadata": {},
   "outputs": [],
   "source": [
    "X_test.drop(columns=['ID'],inplace=True)"
   ]
  },
  {
   "cell_type": "code",
   "execution_count": 13,
   "metadata": {},
   "outputs": [],
   "source": [
    "# row-level 예측 수행\n",
    "y_test_pred = model.predict(X_test)\n",
    "# 예측 결과를 변환\n",
    "y_test_pred_labels = le_target.inverse_transform(y_test_pred)\n",
    "\n",
    "# row 단위 예측 결과를 test_data에 추가\n",
    "test_data = test_df.copy()  # 원본 유지\n",
    "test_data[\"pred_label\"] = y_test_pred_labels"
   ]
  },
  {
   "cell_type": "markdown",
   "metadata": {},
   "source": [
    "### Submission"
   ]
  },
  {
   "cell_type": "code",
   "execution_count": 14,
   "metadata": {},
   "outputs": [],
   "source": [
    "submission = test_data.groupby(\"ID\")[\"pred_label\"] \\\n",
    "    .agg(lambda x: x.value_counts().idxmax()) \\\n",
    "    .reset_index()\n",
    "\n",
    "submission.columns = [\"ID\", \"Segment\"]"
   ]
  },
  {
   "cell_type": "code",
   "execution_count": 15,
   "metadata": {},
   "outputs": [],
   "source": [
    "submission.to_csv('./base_submit.csv',index=False)"
   ]
  }
 ],
 "metadata": {
  "kernelspec": {
   "display_name": "base",
   "language": "python",
   "name": "python3"
  },
  "language_info": {
   "codemirror_mode": {
    "name": "ipython",
    "version": 3
   },
   "file_extension": ".py",
   "mimetype": "text/x-python",
   "name": "python",
   "nbconvert_exporter": "python",
   "pygments_lexer": "ipython3",
   "version": "3.12.7"
  }
 },
 "nbformat": 4,
 "nbformat_minor": 2
}
