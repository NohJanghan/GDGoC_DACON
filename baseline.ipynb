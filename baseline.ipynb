{
 "cells": [
  {
   "cell_type": "markdown",
   "metadata": {},
   "source": [
    "### Import"
   ]
  },
  {
   "cell_type": "code",
   "execution_count": 1,
   "metadata": {},
   "outputs": [],
   "source": [
    "import pandas as pd\n",
    "import numpy as np\n",
    "import gc\n",
    "\n",
    "import xgboost as xgb\n",
    "from sklearn.preprocessing import LabelEncoder"
   ]
  },
  {
   "cell_type": "markdown",
   "metadata": {},
   "source": [
    "### Data Load"
   ]
  },
  {
   "cell_type": "code",
   "execution_count": null,
   "metadata": {},
   "outputs": [],
   "source": [
    "## 데이터의 일부만 사용\n",
    "TRAIN_DATA_RATIO = 1\n",
    "np.random.seed(42)  # or any other seed value\n",
    "customer_first = pd.read_parquet(f\"./train/1.회원정보/201807_train_회원정보.parquet\")\n",
    "unique_ids = customer_first['ID'].unique()\n",
    "del customer_first\n",
    "sampled_ids = np.random.choice(unique_ids, size=int(len(unique_ids) * TRAIN_DATA_RATIO), replace=False)\n",
    "\n",
    "\n",
    "# 데이터 분할(폴더) 구분\n",
    "data_splits = [\"train\", \"test\"]\n",
    "\n",
    "# 각 데이터 유형별 폴더명, 파일 접미사, 변수 접두어 설정\n",
    "data_categories = {\n",
    "    \"회원정보\": {\"folder\": \"1.회원정보\", \"suffix\": \"회원정보\", \"var_prefix\": \"customer\"},\n",
    "    \"신용정보\": {\"folder\": \"2.신용정보\", \"suffix\": \"신용정보\", \"var_prefix\": \"credit\"},\n",
    "    \"승인매출정보\": {\"folder\": \"3.승인매출정보\", \"suffix\": \"승인매출정보\", \"var_prefix\": \"sales\"},\n",
    "    \"청구정보\": {\"folder\": \"4.청구입금정보\", \"suffix\": \"청구정보\", \"var_prefix\": \"billing\"},\n",
    "    \"잔액정보\": {\"folder\": \"5.잔액정보\", \"suffix\": \"잔액정보\", \"var_prefix\": \"balance\"},\n",
    "    \"채널정보\": {\"folder\": \"6.채널정보\", \"suffix\": \"채널정보\", \"var_prefix\": \"channel\"},\n",
    "    \"마케팅정보\": {\"folder\": \"7.마케팅정보\", \"suffix\": \"마케팅정보\", \"var_prefix\": \"marketing\"},\n",
    "    \"성과정보\": {\"folder\": \"8.성과정보\", \"suffix\": \"성과정보\", \"var_prefix\": \"performance\"}\n",
    "}\n",
    "\n",
    "# 2018년 7월부터 12월까지의 월 리스트\n",
    "months = ['07', '08', '09', '10', '11', '12']\n",
    "\n",
    "for split in data_splits:\n",
    "    for category, info in data_categories.items():\n",
    "        folder = info[\"folder\"]\n",
    "        suffix = info[\"suffix\"]\n",
    "        var_prefix = info[\"var_prefix\"]\n",
    "        \n",
    "        for month in months:\n",
    "            # 파일명 형식: 2018{month}_{split}_{suffix}.parquet\n",
    "            file_path = f\"./{split}/{folder}/2018{month}_{split}_{suffix}.parquet\"\n",
    "            # 변수명 형식: {var_prefix}_{split}_{month}\n",
    "            variable_name = f\"{var_prefix}_{split}_{month}\"\n",
    "            \n",
    "            ## 훈련 데이터의 일부만 사용\n",
    "            if split == \"train\":\n",
    "                df = pd.read_parquet(file_path)\n",
    "                df = df[df['ID'].isin(sampled_ids)]\n",
    "            else:\n",
    "                df = pd.read_parquet(file_path)\n",
    "\n",
    "            globals()[variable_name] = df\n",
    "            print(f\"{variable_name} is loaded from {file_path}\")\n",
    "\n",
    "gc.collect()"
   ]
  },
  {
   "cell_type": "markdown",
   "metadata": {},
   "source": [
    "### Data Preprocessing(1) : Concat & Merge"
   ]
  },
  {
   "cell_type": "code",
   "execution_count": 2,
   "metadata": {},
   "outputs": [],
   "source": [
    "# 데이터 유형별 설정 \n",
    "info_categories = [\"customer\", \"credit\", \"sales\", \"billing\", \"balance\", \"channel\", \"marketing\", \"performance\"]\n",
    "\n",
    "# 월 설정\n",
    "months = ['07', '08', '09', '10', '11', '12']"
   ]
  },
  {
   "cell_type": "code",
   "execution_count": null,
   "metadata": {},
   "outputs": [],
   "source": [
    "#### Train ####\n",
    "\n",
    "# 각 유형별로 월별 데이터를 합쳐서 새로운 변수에 저장\n",
    "train_dfs = {}\n",
    "\n",
    "for prefix in info_categories:\n",
    "    # globals()에서 동적 변수명으로 데이터프레임들을 가져와 리스트에 저장\n",
    "    df_list = [globals()[f\"{prefix}_train_{month}\"] for month in months]\n",
    "    train_dfs[f\"{prefix}_train_df\"] = pd.concat(df_list, axis=0)\n",
    "    gc.collect()\n",
    "    print(f\"{prefix}_train_df is created with shape: {train_dfs[f'{prefix}_train_df'].shape}\")\n",
    "\n",
    "\n",
    "customer_train_df = train_dfs[\"customer_train_df\"]\n",
    "credit_train_df   = train_dfs[\"credit_train_df\"]\n",
    "sales_train_df    = train_dfs[\"sales_train_df\"]\n",
    "billing_train_df  = train_dfs[\"billing_train_df\"]\n",
    "balance_train_df  = train_dfs[\"balance_train_df\"]\n",
    "channel_train_df  = train_dfs[\"channel_train_df\"]\n",
    "marketing_train_df= train_dfs[\"marketing_train_df\"]\n",
    "performance_train_df = train_dfs[\"performance_train_df\"]\n",
    "\n",
    "gc.collect()"
   ]
  },
  {
   "cell_type": "code",
   "execution_count": null,
   "metadata": {},
   "outputs": [],
   "source": [
    "#### Test ####\n",
    "\n",
    "# test 데이터에 대해 train과 동일한 방법 적용\n",
    "test_dfs = {}\n",
    "\n",
    "for prefix in info_categories:\n",
    "    df_list = [globals()[f\"{prefix}_test_{month}\"] for month in months]\n",
    "    test_dfs[f\"{prefix}_test_df\"] = pd.concat(df_list, axis=0)\n",
    "    gc.collect()\n",
    "    print(f\"{prefix}_test_df is created with shape: {test_dfs[f'{prefix}_test_df'].shape}\")\n",
    "\n",
    "\n",
    "customer_test_df = test_dfs[\"customer_test_df\"]\n",
    "credit_test_df   = test_dfs[\"credit_test_df\"]\n",
    "sales_test_df    = test_dfs[\"sales_test_df\"]\n",
    "billing_test_df  = test_dfs[\"billing_test_df\"]\n",
    "balance_test_df  = test_dfs[\"balance_test_df\"]\n",
    "channel_test_df  = test_dfs[\"channel_test_df\"]\n",
    "marketing_test_df= test_dfs[\"marketing_test_df\"]\n",
    "performance_test_df = test_dfs[\"performance_test_df\"]\n",
    "\n",
    "gc.collect()"
   ]
  },
  {
   "cell_type": "code",
   "execution_count": null,
   "metadata": {},
   "outputs": [],
   "source": [
    "#### Train ####\n",
    "\n",
    "train_df = customer_train_df.merge(credit_train_df, on=['기준년월', 'ID'], how='left')\n",
    "print(\"Step1 저장 완료: train_step1, shape:\", train_df.shape)\n",
    "del customer_train_df, credit_train_df\n",
    "gc.collect()\n",
    "\n",
    "# 이후 merge할 데이터프레임 이름과 단계 정보를 리스트에 저장\n",
    "merge_list = [\n",
    "    (\"sales_train_df\",    \"Step2\"),\n",
    "    (\"billing_train_df\",  \"Step3\"),\n",
    "    (\"balance_train_df\",  \"Step4\"),\n",
    "    (\"channel_train_df\",  \"Step5\"),\n",
    "    (\"marketing_train_df\",\"Step6\"),\n",
    "    (\"performance_train_df\", \"최종\")\n",
    "]\n",
    "\n",
    "# 나머지 단계 merge\n",
    "for df_name, step in merge_list:\n",
    "    # globals()로 동적 변수 접근하여 merge 수행\n",
    "    train_df = train_df.merge(globals()[df_name], on=['기준년월', 'ID'], how='left')\n",
    "    print(f\"{step} 저장 완료: train_{step}, shape:\", train_df.shape)\n",
    "    # 사용한 변수는 메모리 해제를 위해 삭제\n",
    "    del globals()[df_name]\n",
    "    gc.collect()\n",
    "\n",
    "print(train_df.shape)"
   ]
  },
  {
   "cell_type": "code",
   "execution_count": null,
   "metadata": {},
   "outputs": [],
   "source": [
    "#### Test ####\n",
    "\n",
    "test_df = customer_test_df.merge(credit_test_df, on=['기준년월', 'ID'], how='left')\n",
    "print(\"Step1 저장 완료: test_step1, shape:\", test_df.shape)\n",
    "del customer_test_df, credit_test_df\n",
    "gc.collect()\n",
    "\n",
    "# 이후 merge할 데이터프레임 이름과 단계 정보를 리스트에 저장\n",
    "merge_list = [\n",
    "    (\"sales_test_df\",    \"Step2\"),\n",
    "    (\"billing_test_df\",  \"Step3\"),\n",
    "    (\"balance_test_df\",  \"Step4\"),\n",
    "    (\"channel_test_df\",  \"Step5\"),\n",
    "    (\"marketing_test_df\",\"Step6\"),\n",
    "    (\"performance_test_df\", \"최종\")\n",
    "]\n",
    "\n",
    "# 나머지 단계 merge\n",
    "for df_name, step in merge_list:\n",
    "    # globals()로 동적 변수 접근하여 merge 수행\n",
    "    test_df = test_df.merge(globals()[df_name], on=['기준년월', 'ID'], how='left')\n",
    "    print(f\"{step} 저장 완료: test_{step}, shape:\", test_df.shape)\n",
    "    # 사용한 변수는 메모리 해제를 위해 삭제\n",
    "    del globals()[df_name]\n",
    "    gc.collect()\n",
    "\n",
    "print(test_df.shape)"
   ]
  },
  {
   "cell_type": "markdown",
   "metadata": {},
   "source": [
    "### PCA"
   ]
  },
  {
   "cell_type": "markdown",
   "metadata": {},
   "source": [
    "#### train"
   ]
  },
  {
   "cell_type": "code",
   "execution_count": null,
   "metadata": {},
   "outputs": [],
   "source": [
    "train_df_with_na = train_df.T[train_df.isna().any(axis=0)].T\n",
    "\n",
    "categorical_cols = train_df.select_dtypes(include=['object']).columns\n",
    "train_df_categorical = train_df[categorical_cols]\n",
    "\n",
    "train_df_no_pca = pd.concat([train_df.loc[:, ['Segment']], train_df_with_na,train_df_categorical], axis=1)\n",
    "train_df_no_pca = train_df_no_pca.loc[:,~train_df_no_pca.columns.duplicated()]\n",
    "del train_df_with_na, train_df_categorical\n",
    "gc.collect()"
   ]
  },
  {
   "cell_type": "code",
   "execution_count": null,
   "metadata": {},
   "outputs": [],
   "source": [
    "# PCA를 위한 데이터 전처리\n",
    "# 결측치가 있는 컬럼 제거\n",
    "train_df = train_df.dropna(axis=1)\n",
    "\n",
    "# ID와 Segment 컬럼 제외\n",
    "train_df = train_df.drop(['ID', 'Segment'], axis=1)\n",
    "\n",
    "# 수치형 데이터만 선택\n",
    "numeric_cols = train_df.select_dtypes(include=['int64', 'float64']).columns\n",
    "train_df = train_df[numeric_cols]\n",
    "gc.collect()"
   ]
  },
  {
   "cell_type": "code",
   "execution_count": 12,
   "metadata": {},
   "outputs": [],
   "source": [
    "# scaling\n",
    "from sklearn.preprocessing import StandardScaler\n",
    "scaler = StandardScaler()\n",
    "train_df = scaler.fit_transform(train_df)"
   ]
  },
  {
   "cell_type": "code",
   "execution_count": null,
   "metadata": {},
   "outputs": [],
   "source": [
    "from sklearn.decomposition import PCA\n",
    "pca = PCA(n_components=300)\n",
    "\n",
    "pca.fit(train_df)\n",
    "print(\"누적 설명된 분산 비율: \", sum(pca.explained_variance_ratio_))"
   ]
  },
  {
   "cell_type": "code",
   "execution_count": null,
   "metadata": {},
   "outputs": [],
   "source": [
    "import joblib\n",
    "joblib.dump(pca, 'pca_model.pkl')"
   ]
  },
  {
   "cell_type": "code",
   "execution_count": 15,
   "metadata": {},
   "outputs": [],
   "source": [
    "train_df = pca.transform(train_df)\n",
    "train_df = pd.DataFrame(train_df, columns=[f'PC{i+1}' for i in range(300)])\n",
    "train_df = pd.concat([train_df_no_pca, train_df], axis=1)\n",
    "del train_df_no_pca\n"
   ]
  },
  {
   "cell_type": "code",
   "execution_count": null,
   "metadata": {},
   "outputs": [],
   "source": [
    "train_df.to_parquet('cache/train_df_pca.parquet')"
   ]
  },
  {
   "cell_type": "markdown",
   "metadata": {},
   "source": [
    "#### Load Train Data"
   ]
  },
  {
   "cell_type": "code",
   "execution_count": 2,
   "metadata": {},
   "outputs": [],
   "source": [
    "# load\n",
    "import joblib\n",
    "from sklearn.decomposition import PCA\n",
    "pca = joblib.load('cache/pca_model.pkl')\n",
    "train_df = pd.read_parquet('cache/train_df_pca.parquet')"
   ]
  },
  {
   "cell_type": "markdown",
   "metadata": {},
   "source": [
    "#### test"
   ]
  },
  {
   "cell_type": "code",
   "execution_count": null,
   "metadata": {},
   "outputs": [],
   "source": [
    "test_df_with_na = test_df.T[test_df.isna().any(axis=0)].T\n",
    "\n",
    "categorical_cols = test_df.select_dtypes(include=['object']).columns\n",
    "test_df_categorical = test_df[categorical_cols]\n",
    "\n",
    "test_df_no_pca = pd.concat([test_df_with_na,test_df_categorical], axis=1)\n",
    "test_df_no_pca = test_df_no_pca.loc[:,~test_df_no_pca.columns.duplicated()]\n",
    "del test_df_with_na, test_df_categorical\n",
    "gc.collect()"
   ]
  },
  {
   "cell_type": "code",
   "execution_count": null,
   "metadata": {},
   "outputs": [],
   "source": [
    "test_df = test_df.dropna(axis=1)\n",
    "test_df = test_df.drop(['ID'], axis=1)\n",
    "numeric_cols = test_df.select_dtypes(include=['int64', 'float64']).columns\n",
    "test_df = test_df[numeric_cols]\n",
    "gc.collect()"
   ]
  },
  {
   "cell_type": "code",
   "execution_count": null,
   "metadata": {},
   "outputs": [],
   "source": [
    "from sklearn.preprocessing import StandardScaler\n",
    "scaler = StandardScaler()\n",
    "test_df = scaler.fit_transform(test_df)\n"
   ]
  },
  {
   "cell_type": "code",
   "execution_count": 13,
   "metadata": {},
   "outputs": [],
   "source": [
    "test_df = pca.transform(test_df)\n",
    "test_df = pd.DataFrame(test_df, columns=[f'PC{i+1}' for i in range(300)])\n",
    "test_df = pd.concat([test_df_no_pca, test_df], axis=1)\n",
    "del test_df_no_pca"
   ]
  },
  {
   "cell_type": "code",
   "execution_count": 14,
   "metadata": {},
   "outputs": [],
   "source": [
    "test_df.to_parquet('cache/test_df_pca.parquet')\n"
   ]
  },
  {
   "cell_type": "markdown",
   "metadata": {},
   "source": [
    "#### Load Test Data"
   ]
  },
  {
   "cell_type": "code",
   "execution_count": 3,
   "metadata": {},
   "outputs": [],
   "source": [
    "# test\n",
    "import joblib\n",
    "test_df = pd.read_parquet('cache/test_df_pca.parquet')\n"
   ]
  },
  {
   "cell_type": "markdown",
   "metadata": {},
   "source": [
    "### Data Preprocessing(2) : Encoding"
   ]
  },
  {
   "cell_type": "code",
   "execution_count": 4,
   "metadata": {},
   "outputs": [],
   "source": [
    "feature_cols = [col for col in train_df.columns if col not in [\"ID\", \"Segment\"]]\n",
    "\n",
    "X = train_df[feature_cols].copy()\n",
    "y = train_df[\"Segment\"].copy()\n",
    "\n",
    "# 타깃 라벨 인코딩\n",
    "le_target = LabelEncoder()\n",
    "y_encoded = le_target.fit_transform(y)"
   ]
  },
  {
   "cell_type": "code",
   "execution_count": 5,
   "metadata": {},
   "outputs": [],
   "source": [
    "categorical_features = X.select_dtypes(include=['object']).columns.tolist()\n",
    "\n",
    "X_test = test_df.copy()\n",
    "\n",
    "encoders = {}  # 각 컬럼별 encoder 저장\n",
    "\n",
    "for col in categorical_features:\n",
    "    le_train = LabelEncoder()\n",
    "    X[col] = le_train.fit_transform(X[col])\n",
    "    encoders[col] = le_train\n",
    "    unseen_labels_val = set(X_test[col]) - set(le_train.classes_)\n",
    "    if unseen_labels_val:\n",
    "        le_train.classes_ = np.append(le_train.classes_, list(unseen_labels_val))\n",
    "    X_test[col] = le_train.transform(X_test[col])"
   ]
  },
  {
   "cell_type": "code",
   "execution_count": 6,
   "metadata": {},
   "outputs": [
    {
     "data": {
      "text/plain": [
       "0"
      ]
     },
     "execution_count": 6,
     "metadata": {},
     "output_type": "execute_result"
    }
   ],
   "source": [
    "gc.collect()"
   ]
  },
  {
   "cell_type": "markdown",
   "metadata": {},
   "source": [
    "### Train"
   ]
  },
  {
   "cell_type": "code",
   "execution_count": 7,
   "metadata": {},
   "outputs": [
    {
     "name": "stdout",
     "output_type": "stream",
     "text": [
      "GPU 사용 가능: gpu_hist 모드 적용\n"
     ]
    },
    {
     "name": "stderr",
     "output_type": "stream",
     "text": [
      "c:\\Users\\Janghan\\anaconda3\\Lib\\site-packages\\xgboost\\core.py:158: UserWarning: [23:44:08] WARNING: D:\\bld\\xgboost-split_1737531311373\\work\\src\\common\\error_msg.cc:45: `gpu_id` is deprecated since2.0.0, use `device` instead. E.g. device=cpu/cuda/cuda:0\n",
      "  warnings.warn(smsg, UserWarning)\n",
      "c:\\Users\\Janghan\\anaconda3\\Lib\\site-packages\\xgboost\\core.py:158: UserWarning: [23:44:08] WARNING: D:\\bld\\xgboost-split_1737531311373\\work\\src\\common\\error_msg.cc:27: The tree method `gpu_hist` is deprecated since 2.0.0. To use GPU training, set the `device` parameter to CUDA instead.\n",
      "\n",
      "    E.g. tree_method = \"hist\", device = \"cuda\"\n",
      "\n",
      "  warnings.warn(smsg, UserWarning)\n"
     ]
    }
   ],
   "source": [
    "try:\n",
    "    model = xgb.XGBClassifier(\n",
    "        tree_method='gpu_hist',  # GPU 모드 설정\n",
    "        gpu_id=0,\n",
    "        random_state=42\n",
    "    )\n",
    "    print(\"GPU 사용 가능: gpu_hist 모드 적용\")\n",
    "    model.fit(X, y_encoded)\n",
    "    \n",
    "except Exception as e:\n",
    "    print(e)\n",
    "    model = xgb.XGBClassifier(\n",
    "        random_state=42\n",
    "    )\n",
    "    print(\"GPU 사용 불가: CPU 모드 적용\")\n",
    "    model.fit(X, y_encoded)"
   ]
  },
  {
   "cell_type": "markdown",
   "metadata": {},
   "source": [
    "### Predict"
   ]
  },
  {
   "cell_type": "code",
   "execution_count": 8,
   "metadata": {},
   "outputs": [],
   "source": [
    "X_test.drop(columns=['ID'],inplace=True)"
   ]
  },
  {
   "cell_type": "code",
   "execution_count": 9,
   "metadata": {},
   "outputs": [
    {
     "name": "stdout",
     "output_type": "stream",
     "text": [
      "<class 'pandas.core.frame.DataFrame'>\n",
      "RangeIndex: 600000 entries, 0 to 599999\n",
      "Columns: 357 entries, 가입통신회사코드 to PC300\n",
      "dtypes: float64(309), int32(48)\n",
      "memory usage: 1.5 GB\n"
     ]
    }
   ],
   "source": [
    "X_test.info()"
   ]
  },
  {
   "cell_type": "code",
   "execution_count": 10,
   "metadata": {},
   "outputs": [
    {
     "name": "stderr",
     "output_type": "stream",
     "text": [
      "c:\\Users\\Janghan\\anaconda3\\Lib\\site-packages\\xgboost\\core.py:158: UserWarning: [23:48:30] WARNING: D:\\bld\\xgboost-split_1737531311373\\work\\src\\common\\error_msg.cc:27: The tree method `gpu_hist` is deprecated since 2.0.0. To use GPU training, set the `device` parameter to CUDA instead.\n",
      "\n",
      "    E.g. tree_method = \"hist\", device = \"cuda\"\n",
      "\n",
      "  warnings.warn(smsg, UserWarning)\n",
      "c:\\Users\\Janghan\\anaconda3\\Lib\\site-packages\\xgboost\\core.py:158: UserWarning: [23:48:30] WARNING: D:\\bld\\xgboost-split_1737531311373\\work\\src\\common\\error_msg.cc:58: Falling back to prediction using DMatrix due to mismatched devices. This might lead to higher memory usage and slower performance. XGBoost is running on: cuda:0, while the input data is on: cpu.\n",
      "Potential solutions:\n",
      "- Use a data structure that matches the device ordinal in the booster.\n",
      "- Set the device for booster before call to inplace_predict.\n",
      "\n",
      "This warning will only be shown once.\n",
      "\n",
      "  warnings.warn(smsg, UserWarning)\n"
     ]
    }
   ],
   "source": [
    "# row-level 예측 수행\n",
    "y_test_pred = model.predict(X_test)\n",
    "# 예측 결과를 변환\n",
    "y_test_pred_labels = le_target.inverse_transform(y_test_pred)\n",
    "\n",
    "# row 단위 예측 결과를 test_data에 추가\n",
    "test_data = test_df.copy()  # 원본 유지\n",
    "test_data[\"pred_label\"] = y_test_pred_labels"
   ]
  },
  {
   "cell_type": "markdown",
   "metadata": {},
   "source": [
    "### Submission"
   ]
  },
  {
   "cell_type": "code",
   "execution_count": 11,
   "metadata": {},
   "outputs": [],
   "source": [
    "submission = test_data.groupby(\"ID\")[\"pred_label\"] \\\n",
    "    .agg(lambda x: x.value_counts().idxmax()) \\\n",
    "    .reset_index()\n",
    "\n",
    "submission.columns = [\"ID\", \"Segment\"]"
   ]
  },
  {
   "cell_type": "code",
   "execution_count": 12,
   "metadata": {},
   "outputs": [],
   "source": [
    "submission.to_csv('./base_submit.csv',index=False)"
   ]
  }
 ],
 "metadata": {
  "kernelspec": {
   "display_name": "base",
   "language": "python",
   "name": "python3"
  },
  "language_info": {
   "codemirror_mode": {
    "name": "ipython",
    "version": 3
   },
   "file_extension": ".py",
   "mimetype": "text/x-python",
   "name": "python",
   "nbconvert_exporter": "python",
   "pygments_lexer": "ipython3",
   "version": "3.12.3"
  }
 },
 "nbformat": 4,
 "nbformat_minor": 2
}
